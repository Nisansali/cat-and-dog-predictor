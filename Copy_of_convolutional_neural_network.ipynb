{
 "cells": [
  {
   "cell_type": "markdown",
   "metadata": {
    "id": "3DR-eO17geWu"
   },
   "source": [
    "# Convolutional Neural Network"
   ]
  },
  {
   "cell_type": "markdown",
   "metadata": {
    "id": "EMefrVPCg-60"
   },
   "source": [
    "### Importing the libraries"
   ]
  },
  {
   "cell_type": "code",
   "execution_count": 1,
   "metadata": {
    "id": "KYZI_vf1Qj7-"
   },
   "outputs": [],
   "source": [
    "import tensorflow as tf\n",
    "from keras.preprocessing.image import ImageDataGenerator\n"
   ]
  },
  {
   "cell_type": "code",
   "execution_count": 2,
   "metadata": {
    "colab": {
     "base_uri": "https://localhost:8080/",
     "height": 35
    },
    "id": "HzPo76dZRcIr",
    "outputId": "f23f5891-49eb-4387-b123-4f6d74f4dfef"
   },
   "outputs": [
    {
     "data": {
      "text/plain": [
       "'2.4.1'"
      ]
     },
     "execution_count": 2,
     "metadata": {},
     "output_type": "execute_result"
    }
   ],
   "source": [
    "tf.__version__\n"
   ]
  },
  {
   "cell_type": "markdown",
   "metadata": {
    "id": "oxQxCBWyoGPE"
   },
   "source": [
    "## Part 1 - Data Preprocessing"
   ]
  },
  {
   "cell_type": "markdown",
   "metadata": {
    "id": "MvE-heJNo3GG"
   },
   "source": [
    "### Preprocessing the Training set"
   ]
  },
  {
   "cell_type": "code",
   "execution_count": 3,
   "metadata": {
    "id": "Y6IM8Q2jSCMF"
   },
   "outputs": [
    {
     "name": "stdout",
     "output_type": "stream",
     "text": [
      "Found 8000 images belonging to 2 classes.\n"
     ]
    }
   ],
   "source": [
    "train_datagen = ImageDataGenerator(\n",
    "        rescale=1./255,\n",
    "        shear_range=0.2,\n",
    "        zoom_range=0.2,\n",
    "        horizontal_flip=True)\n",
    "\n",
    "training_set = train_datagen.flow_from_directory(\n",
    "        'dataset/training_set', #path\n",
    "        target_size=(64, 64), #Training beacome faster\n",
    "        batch_size=32,\n",
    "        class_mode='binary') #cat or dog"
   ]
  },
  {
   "cell_type": "markdown",
   "metadata": {
    "id": "mrCMmGw9pHys"
   },
   "source": [
    "### Preprocessing the Test set"
   ]
  },
  {
   "cell_type": "code",
   "execution_count": 4,
   "metadata": {
    "id": "hG4-0UeGUyM3"
   },
   "outputs": [
    {
     "name": "stdout",
     "output_type": "stream",
     "text": [
      "Found 2000 images belonging to 2 classes.\n"
     ]
    }
   ],
   "source": [
    "test_datagen = ImageDataGenerator(rescale=1./255)\n",
    "test_set = test_datagen.flow_from_directory(\n",
    "        'dataset/test_set',\n",
    "        target_size=(64, 64), #same target size as training set\n",
    "        batch_size=32,\n",
    "        class_mode='binary')"
   ]
  },
  {
   "cell_type": "markdown",
   "metadata": {
    "id": "af8O4l90gk7B"
   },
   "source": [
    "## Part 2 - Building the CNN"
   ]
  },
  {
   "cell_type": "markdown",
   "metadata": {
    "id": "ces1gXY2lmoX"
   },
   "source": [
    "### Initialising the CNN"
   ]
  },
  {
   "cell_type": "code",
   "execution_count": 5,
   "metadata": {
    "id": "bwFjGZYGaeuC"
   },
   "outputs": [],
   "source": [
    "cnn = tf.keras.models.Sequential() # because sequence of layers"
   ]
  },
  {
   "cell_type": "markdown",
   "metadata": {
    "id": "u5YJj_XMl5LF"
   },
   "source": [
    "### Step 1 - Convolution"
   ]
  },
  {
   "cell_type": "code",
   "execution_count": 6,
   "metadata": {
    "id": "Jjyxf7kKaZXp"
   },
   "outputs": [],
   "source": [
    "cnn.add(tf.keras.layers.Conv2D(filters=32,kernel_size=3, activation='relu', input_shape=[64,64,3]))"
   ]
  },
  {
   "cell_type": "markdown",
   "metadata": {
    "id": "tf87FpvxmNOJ"
   },
   "source": [
    "### Step 2 - Pooling"
   ]
  },
  {
   "cell_type": "code",
   "execution_count": 7,
   "metadata": {
    "id": "epszzF6ccNAp"
   },
   "outputs": [],
   "source": [
    "cnn.add(tf.keras.layers.MaxPool2D(pool_size=2, strides=2)) #max pool"
   ]
  },
  {
   "cell_type": "markdown",
   "metadata": {
    "id": "xaTOgD8rm4mU"
   },
   "source": [
    "### Adding a second convolutional layer"
   ]
  },
  {
   "cell_type": "code",
   "execution_count": 8,
   "metadata": {
    "id": "j991l9vpdX-Y"
   },
   "outputs": [],
   "source": [
    "\n",
    "cnn.add(tf.keras.layers.Conv2D(filters=32,kernel_size=3, activation='relu'))\n",
    "cnn.add(tf.keras.layers.MaxPool2D(pool_size=2, strides=2)) #max pool"
   ]
  },
  {
   "cell_type": "markdown",
   "metadata": {
    "id": "tmiEuvTunKfk"
   },
   "source": [
    "### Step 3 - Flattening"
   ]
  },
  {
   "cell_type": "code",
   "execution_count": 9,
   "metadata": {
    "id": "dSm-wpEddrFi"
   },
   "outputs": [],
   "source": [
    "cnn.add(tf.keras.layers.Flatten())"
   ]
  },
  {
   "cell_type": "markdown",
   "metadata": {
    "id": "dAoSECOm203v"
   },
   "source": [
    "### Step 4 - Full Connection"
   ]
  },
  {
   "cell_type": "code",
   "execution_count": 10,
   "metadata": {
    "id": "X6r__Aj_uN70"
   },
   "outputs": [],
   "source": [
    "cnn.add(tf.keras.layers.Dense(units=128, activation='relu'))"
   ]
  },
  {
   "cell_type": "markdown",
   "metadata": {
    "id": "yTldFvbX28Na"
   },
   "source": [
    "### Step 5 - Output Layer"
   ]
  },
  {
   "cell_type": "code",
   "execution_count": 11,
   "metadata": {
    "id": "wrXvIQuJutUY"
   },
   "outputs": [],
   "source": [
    "cnn.add(tf.keras.layers.Dense(units=1, activation='sigmoid')) #because of binary classification"
   ]
  },
  {
   "cell_type": "markdown",
   "metadata": {
    "id": "D6XkI90snSDl"
   },
   "source": [
    "## Part 3 - Training the CNN"
   ]
  },
  {
   "cell_type": "markdown",
   "metadata": {
    "id": "vfrFQACEnc6i"
   },
   "source": [
    "### Compiling the CNN"
   ]
  },
  {
   "cell_type": "code",
   "execution_count": 12,
   "metadata": {
    "id": "dpWH2Mhbvf3O"
   },
   "outputs": [],
   "source": [
    "cnn.compile(optimizer='adam', loss='binary_crossentropy', metrics = ['accuracy'])"
   ]
  },
  {
   "cell_type": "markdown",
   "metadata": {
    "id": "ehS-v3MIpX2h"
   },
   "source": [
    "### Training the CNN on the Training set and evaluating it on the Test set"
   ]
  },
  {
   "cell_type": "code",
   "execution_count": 13,
   "metadata": {
    "id": "Kjh3kaJlxB6G"
   },
   "outputs": [
    {
     "name": "stdout",
     "output_type": "stream",
     "text": [
      "Epoch 1/25\n",
      "250/250 [==============================] - 72s 286ms/step - loss: 0.7006 - accuracy: 0.5292 - val_loss: 0.6202 - val_accuracy: 0.6725\n",
      "Epoch 2/25\n",
      "250/250 [==============================] - 34s 135ms/step - loss: 0.6267 - accuracy: 0.6582 - val_loss: 0.5959 - val_accuracy: 0.6890\n",
      "Epoch 3/25\n",
      "250/250 [==============================] - 34s 137ms/step - loss: 0.5632 - accuracy: 0.7058 - val_loss: 0.5377 - val_accuracy: 0.7310\n",
      "Epoch 4/25\n",
      "250/250 [==============================] - 35s 139ms/step - loss: 0.5315 - accuracy: 0.7333 - val_loss: 0.5251 - val_accuracy: 0.7400\n",
      "Epoch 5/25\n",
      "250/250 [==============================] - 34s 138ms/step - loss: 0.5118 - accuracy: 0.7455 - val_loss: 0.5082 - val_accuracy: 0.7595\n",
      "Epoch 6/25\n",
      "250/250 [==============================] - 35s 139ms/step - loss: 0.4900 - accuracy: 0.7662 - val_loss: 0.5346 - val_accuracy: 0.7335\n",
      "Epoch 7/25\n",
      "250/250 [==============================] - 35s 140ms/step - loss: 0.4796 - accuracy: 0.7693 - val_loss: 0.4922 - val_accuracy: 0.7750\n",
      "Epoch 8/25\n",
      "250/250 [==============================] - 36s 142ms/step - loss: 0.4691 - accuracy: 0.7699 - val_loss: 0.4850 - val_accuracy: 0.7640\n",
      "Epoch 9/25\n",
      "250/250 [==============================] - 37s 147ms/step - loss: 0.4291 - accuracy: 0.7966 - val_loss: 0.4955 - val_accuracy: 0.7670\n",
      "Epoch 10/25\n",
      "250/250 [==============================] - 37s 148ms/step - loss: 0.4233 - accuracy: 0.8007 - val_loss: 0.5107 - val_accuracy: 0.7670\n",
      "Epoch 11/25\n",
      "250/250 [==============================] - 38s 151ms/step - loss: 0.4084 - accuracy: 0.8081 - val_loss: 0.4873 - val_accuracy: 0.7760\n",
      "Epoch 12/25\n",
      "250/250 [==============================] - 38s 153ms/step - loss: 0.3933 - accuracy: 0.8202 - val_loss: 0.4736 - val_accuracy: 0.7750\n",
      "Epoch 13/25\n",
      "250/250 [==============================] - 39s 154ms/step - loss: 0.3945 - accuracy: 0.8196 - val_loss: 0.5387 - val_accuracy: 0.7705\n",
      "Epoch 14/25\n",
      "250/250 [==============================] - 38s 151ms/step - loss: 0.3693 - accuracy: 0.8336 - val_loss: 0.4726 - val_accuracy: 0.7945\n",
      "Epoch 15/25\n",
      "250/250 [==============================] - 38s 151ms/step - loss: 0.3488 - accuracy: 0.8454 - val_loss: 0.4588 - val_accuracy: 0.7965\n",
      "Epoch 16/25\n",
      "250/250 [==============================] - 37s 150ms/step - loss: 0.3470 - accuracy: 0.8482 - val_loss: 0.5005 - val_accuracy: 0.7870\n",
      "Epoch 17/25\n",
      "250/250 [==============================] - 36s 145ms/step - loss: 0.3288 - accuracy: 0.8563 - val_loss: 0.5018 - val_accuracy: 0.7895\n",
      "Epoch 18/25\n",
      "250/250 [==============================] - 38s 153ms/step - loss: 0.3052 - accuracy: 0.8675 - val_loss: 0.4767 - val_accuracy: 0.8075\n",
      "Epoch 19/25\n",
      "250/250 [==============================] - 38s 151ms/step - loss: 0.2976 - accuracy: 0.8779 - val_loss: 0.5615 - val_accuracy: 0.7770\n",
      "Epoch 20/25\n",
      "250/250 [==============================] - 38s 152ms/step - loss: 0.2947 - accuracy: 0.8722 - val_loss: 0.4781 - val_accuracy: 0.8050\n",
      "Epoch 21/25\n",
      "250/250 [==============================] - 38s 154ms/step - loss: 0.2838 - accuracy: 0.8805 - val_loss: 0.5019 - val_accuracy: 0.7875\n",
      "Epoch 22/25\n",
      "250/250 [==============================] - 37s 149ms/step - loss: 0.2522 - accuracy: 0.8904 - val_loss: 0.4647 - val_accuracy: 0.7965\n",
      "Epoch 23/25\n",
      "250/250 [==============================] - 36s 144ms/step - loss: 0.2405 - accuracy: 0.9049 - val_loss: 0.5649 - val_accuracy: 0.7710\n",
      "Epoch 24/25\n",
      "250/250 [==============================] - 36s 145ms/step - loss: 0.2416 - accuracy: 0.8931 - val_loss: 0.5222 - val_accuracy: 0.7855\n",
      "Epoch 25/25\n",
      "250/250 [==============================] - 37s 147ms/step - loss: 0.2334 - accuracy: 0.9021 - val_loss: 0.6167 - val_accuracy: 0.7830\n"
     ]
    },
    {
     "data": {
      "text/plain": [
       "<tensorflow.python.keras.callbacks.History at 0x1dd561cba30>"
      ]
     },
     "execution_count": 13,
     "metadata": {},
     "output_type": "execute_result"
    }
   ],
   "source": [
    "cnn.fit(x = training_set, validation_data= test_set, epochs = 25)"
   ]
  },
  {
   "cell_type": "markdown",
   "metadata": {
    "id": "U3PZasO0006Z"
   },
   "source": [
    "## Part 4 - Making a single prediction"
   ]
  },
  {
   "cell_type": "code",
   "execution_count": 17,
   "metadata": {
    "id": "bCDVVfY7xycZ"
   },
   "outputs": [],
   "source": [
    "import numpy as np\n",
    "from keras.preprocessing import image\n",
    "test_image = image.load_img('dataset/single_prediction/cat_or_dog_2.jpg',target_size = (64,64))\n",
    "test_image = image.img_to_array(test_image)\n",
    "test_image = np.expand_dims(test_image, axis = 0)\n",
    "result = cnn.predict(test_image)\n",
    "training_set.class_indices\n",
    "if result[0][0] > 0.5:\n",
    "  prediction = 'dog'\n",
    "else:\n",
    "  prediction = 'cat'"
   ]
  },
  {
   "cell_type": "code",
   "execution_count": 18,
   "metadata": {
    "id": "PVv60Cdm1bu4"
   },
   "outputs": [
    {
     "name": "stdout",
     "output_type": "stream",
     "text": [
      "cat\n"
     ]
    }
   ],
   "source": [
    "print(prediction)"
   ]
  },
  {
   "cell_type": "code",
   "execution_count": null,
   "metadata": {},
   "outputs": [],
   "source": []
  }
 ],
 "metadata": {
  "colab": {
   "collapsed_sections": [],
   "name": "Copy of convolutional_neural_network.ipynb",
   "provenance": [],
   "toc_visible": true
  },
  "kernelspec": {
   "display_name": "Python 3",
   "language": "python",
   "name": "python3"
  },
  "language_info": {
   "codemirror_mode": {
    "name": "ipython",
    "version": 3
   },
   "file_extension": ".py",
   "mimetype": "text/x-python",
   "name": "python",
   "nbconvert_exporter": "python",
   "pygments_lexer": "ipython3",
   "version": "3.8.5"
  }
 },
 "nbformat": 4,
 "nbformat_minor": 1
}
